{
 "cells": [
  {
   "cell_type": "code",
   "execution_count": 141,
   "id": "e4b7deda",
   "metadata": {},
   "outputs": [],
   "source": [
    "import pandas as pd\n",
    "import plotly_express as px\n"
   ]
  },
  {
   "cell_type": "code",
   "execution_count": 142,
   "id": "d707c76b",
   "metadata": {},
   "outputs": [],
   "source": [
    "# reading both csv into two different df\n",
    "\n",
    "weekly_usage = pd.read_csv(\"../data/LinkNYC_Weekly_Usage.csv\")\n",
    "kiosk_locations = pd.read_csv(\"../data/LinkNYC_Kiosk_Locations.csv\")\n"
   ]
  },
  {
   "cell_type": "code",
   "execution_count": 143,
   "id": "a9706708",
   "metadata": {},
   "outputs": [
    {
     "name": "stdout",
     "output_type": "stream",
     "text": [
      "<class 'pandas.core.frame.DataFrame'>\n",
      "RangeIndex: 300 entries, 0 to 299\n",
      "Data columns (total 9 columns):\n",
      " #   Column                                         Non-Null Count  Dtype  \n",
      "---  ------                                         --------------  -----  \n",
      " 0   Report Ending (weekly starting on Sundays)     300 non-null    object \n",
      " 1   Number of Sessions                             300 non-null    int64  \n",
      " 2   Average Session Length                         300 non-null    object \n",
      " 3   Number of Unique Clients                       300 non-null    int64  \n",
      " 4   TB Downloaded                                  300 non-null    float64\n",
      " 5   TB Uploaded                                    300 non-null    float64\n",
      " 6   Cumulative Bandwidth Utilization To Date (TB)  300 non-null    float64\n",
      " 7   Cumulative Sessions To Date                    300 non-null    int64  \n",
      " 8   Cumulative Subscribers To Date                 300 non-null    int64  \n",
      "dtypes: float64(3), int64(4), object(2)\n",
      "memory usage: 21.2+ KB\n",
      "None\n"
     ]
    },
    {
     "data": {
      "text/html": [
       "<div>\n",
       "<style scoped>\n",
       "    .dataframe tbody tr th:only-of-type {\n",
       "        vertical-align: middle;\n",
       "    }\n",
       "\n",
       "    .dataframe tbody tr th {\n",
       "        vertical-align: top;\n",
       "    }\n",
       "\n",
       "    .dataframe thead th {\n",
       "        text-align: right;\n",
       "    }\n",
       "</style>\n",
       "<table border=\"1\" class=\"dataframe\">\n",
       "  <thead>\n",
       "    <tr style=\"text-align: right;\">\n",
       "      <th></th>\n",
       "      <th>Report Ending (weekly starting on Sundays)</th>\n",
       "      <th>Number of Sessions</th>\n",
       "      <th>Average Session Length</th>\n",
       "      <th>Number of Unique Clients</th>\n",
       "      <th>TB Downloaded</th>\n",
       "      <th>TB Uploaded</th>\n",
       "      <th>Cumulative Bandwidth Utilization To Date (TB)</th>\n",
       "      <th>Cumulative Sessions To Date</th>\n",
       "      <th>Cumulative Subscribers To Date</th>\n",
       "    </tr>\n",
       "  </thead>\n",
       "  <tbody>\n",
       "    <tr>\n",
       "      <th>0</th>\n",
       "      <td>01/05/2020</td>\n",
       "      <td>23086410</td>\n",
       "      <td>00:04:07</td>\n",
       "      <td>683250</td>\n",
       "      <td>121.01</td>\n",
       "      <td>12.67</td>\n",
       "      <td>14353.83</td>\n",
       "      <td>2251215052</td>\n",
       "      <td>8461839</td>\n",
       "    </tr>\n",
       "    <tr>\n",
       "      <th>1</th>\n",
       "      <td>01/12/2020</td>\n",
       "      <td>23584159</td>\n",
       "      <td>00:04:07</td>\n",
       "      <td>640118</td>\n",
       "      <td>116.52</td>\n",
       "      <td>11.14</td>\n",
       "      <td>14501.59</td>\n",
       "      <td>2284581863</td>\n",
       "      <td>8502485</td>\n",
       "    </tr>\n",
       "    <tr>\n",
       "      <th>2</th>\n",
       "      <td>01/19/2020</td>\n",
       "      <td>22004022</td>\n",
       "      <td>00:04:07</td>\n",
       "      <td>592715</td>\n",
       "      <td>114.50</td>\n",
       "      <td>10.52</td>\n",
       "      <td>14626.62</td>\n",
       "      <td>2306585885</td>\n",
       "      <td>8536567</td>\n",
       "    </tr>\n",
       "    <tr>\n",
       "      <th>3</th>\n",
       "      <td>01/26/2020</td>\n",
       "      <td>20245042</td>\n",
       "      <td>00:04:15</td>\n",
       "      <td>602685</td>\n",
       "      <td>118.05</td>\n",
       "      <td>10.13</td>\n",
       "      <td>14754.79</td>\n",
       "      <td>2326830927</td>\n",
       "      <td>8571523</td>\n",
       "    </tr>\n",
       "    <tr>\n",
       "      <th>4</th>\n",
       "      <td>02/02/2020</td>\n",
       "      <td>22356460</td>\n",
       "      <td>00:04:11</td>\n",
       "      <td>617337</td>\n",
       "      <td>120.69</td>\n",
       "      <td>10.94</td>\n",
       "      <td>14886.42</td>\n",
       "      <td>2349187387</td>\n",
       "      <td>8615640</td>\n",
       "    </tr>\n",
       "  </tbody>\n",
       "</table>\n",
       "</div>"
      ],
      "text/plain": [
       "  Report Ending (weekly starting on Sundays)  Number of Sessions  \\\n",
       "0                                 01/05/2020            23086410   \n",
       "1                                 01/12/2020            23584159   \n",
       "2                                 01/19/2020            22004022   \n",
       "3                                 01/26/2020            20245042   \n",
       "4                                 02/02/2020            22356460   \n",
       "\n",
       "  Average Session Length  Number of Unique Clients  TB Downloaded  \\\n",
       "0               00:04:07                    683250         121.01   \n",
       "1               00:04:07                    640118         116.52   \n",
       "2               00:04:07                    592715         114.50   \n",
       "3               00:04:15                    602685         118.05   \n",
       "4               00:04:11                    617337         120.69   \n",
       "\n",
       "   TB Uploaded  Cumulative Bandwidth Utilization To Date (TB)  \\\n",
       "0        12.67                                       14353.83   \n",
       "1        11.14                                       14501.59   \n",
       "2        10.52                                       14626.62   \n",
       "3        10.13                                       14754.79   \n",
       "4        10.94                                       14886.42   \n",
       "\n",
       "   Cumulative Sessions To Date  Cumulative Subscribers To Date  \n",
       "0                   2251215052                         8461839  \n",
       "1                   2284581863                         8502485  \n",
       "2                   2306585885                         8536567  \n",
       "3                   2326830927                         8571523  \n",
       "4                   2349187387                         8615640  "
      ]
     },
     "execution_count": 143,
     "metadata": {},
     "output_type": "execute_result"
    }
   ],
   "source": [
    "#quick visual of weekly_usage dataframe\n",
    "print(weekly_usage.info())\n",
    "weekly_usage.head()"
   ]
  },
  {
   "cell_type": "code",
   "execution_count": 144,
   "id": "7fca1854",
   "metadata": {},
   "outputs": [
    {
     "name": "stdout",
     "output_type": "stream",
     "text": [
      "<class 'pandas.core.frame.DataFrame'>\n",
      "RangeIndex: 2250 entries, 0 to 2249\n",
      "Data columns (total 23 columns):\n",
      " #   Column                                Non-Null Count  Dtype  \n",
      "---  ------                                --------------  -----  \n",
      " 0   Site ID                               2250 non-null   object \n",
      " 1   Planned Kiosk Type                    2250 non-null   object \n",
      " 2   Installation Status                   2250 non-null   object \n",
      " 3   PPT ID                                2102 non-null   object \n",
      " 4   Legacy ID                             2055 non-null   object \n",
      " 5   Borough                               2250 non-null   object \n",
      " 6   Council District                      2250 non-null   int64  \n",
      " 7   Community Board                       2250 non-null   int64  \n",
      " 8   Street Address                        2250 non-null   object \n",
      " 9   Cross Street 1                        2246 non-null   object \n",
      " 10  Cross Street 2                        2246 non-null   object \n",
      " 11  IxN Corner                            2199 non-null   object \n",
      " 12  Postcode                              2250 non-null   int64  \n",
      " 13  Zoning                                2246 non-null   object \n",
      " 14  Latitude                              2250 non-null   float64\n",
      " 15  Longitude                             2250 non-null   float64\n",
      " 16  Installation Complete                 2250 non-null   object \n",
      " 17  Activation Complete                   2250 non-null   object \n",
      " 18  Neighborhood Tabulation Area (NTA)    2240 non-null   object \n",
      " 19  Building Identification Number (BIN)  2177 non-null   float64\n",
      " 20  Borough-Block-Lot (BBL)               2236 non-null   float64\n",
      " 21  Census Tract (CT)                     2089 non-null   float64\n",
      " 22  Location                              2250 non-null   object \n",
      "dtypes: float64(5), int64(3), object(15)\n",
      "memory usage: 404.4+ KB\n",
      "None\n"
     ]
    },
    {
     "data": {
      "text/html": [
       "<div>\n",
       "<style scoped>\n",
       "    .dataframe tbody tr th:only-of-type {\n",
       "        vertical-align: middle;\n",
       "    }\n",
       "\n",
       "    .dataframe tbody tr th {\n",
       "        vertical-align: top;\n",
       "    }\n",
       "\n",
       "    .dataframe thead th {\n",
       "        text-align: right;\n",
       "    }\n",
       "</style>\n",
       "<table border=\"1\" class=\"dataframe\">\n",
       "  <thead>\n",
       "    <tr style=\"text-align: right;\">\n",
       "      <th></th>\n",
       "      <th>Site ID</th>\n",
       "      <th>Planned Kiosk Type</th>\n",
       "      <th>Installation Status</th>\n",
       "      <th>PPT ID</th>\n",
       "      <th>Legacy ID</th>\n",
       "      <th>Borough</th>\n",
       "      <th>Council District</th>\n",
       "      <th>Community Board</th>\n",
       "      <th>Street Address</th>\n",
       "      <th>Cross Street 1</th>\n",
       "      <th>...</th>\n",
       "      <th>Zoning</th>\n",
       "      <th>Latitude</th>\n",
       "      <th>Longitude</th>\n",
       "      <th>Installation Complete</th>\n",
       "      <th>Activation Complete</th>\n",
       "      <th>Neighborhood Tabulation Area (NTA)</th>\n",
       "      <th>Building Identification Number (BIN)</th>\n",
       "      <th>Borough-Block-Lot (BBL)</th>\n",
       "      <th>Census Tract (CT)</th>\n",
       "      <th>Location</th>\n",
       "    </tr>\n",
       "  </thead>\n",
       "  <tbody>\n",
       "    <tr>\n",
       "      <th>0</th>\n",
       "      <td>qu-01-125088</td>\n",
       "      <td>Link1.0</td>\n",
       "      <td>Live</td>\n",
       "      <td>125088</td>\n",
       "      <td>qu-01-125088</td>\n",
       "      <td>Queens</td>\n",
       "      <td>22</td>\n",
       "      <td>401</td>\n",
       "      <td>34-02 BROADWAY</td>\n",
       "      <td>34 STREET</td>\n",
       "      <td>...</td>\n",
       "      <td>C4-2A</td>\n",
       "      <td>40.760713</td>\n",
       "      <td>-73.922879</td>\n",
       "      <td>04/22/2017</td>\n",
       "      <td>06/08/2017</td>\n",
       "      <td>Astoria</td>\n",
       "      <td>4008830.0</td>\n",
       "      <td>4.006220e+09</td>\n",
       "      <td>4005900.0</td>\n",
       "      <td>(40.760713, -73.922879)</td>\n",
       "    </tr>\n",
       "    <tr>\n",
       "      <th>1</th>\n",
       "      <td>bk-01-160081</td>\n",
       "      <td>Link5G_Ad</td>\n",
       "      <td>Live</td>\n",
       "      <td>NaN</td>\n",
       "      <td>NaN</td>\n",
       "      <td>Brooklyn</td>\n",
       "      <td>34</td>\n",
       "      <td>301</td>\n",
       "      <td>161 VARICK AVENUE</td>\n",
       "      <td>SCHOLES STREET</td>\n",
       "      <td>...</td>\n",
       "      <td>M3-1</td>\n",
       "      <td>40.711080</td>\n",
       "      <td>-73.928620</td>\n",
       "      <td>10/09/2024</td>\n",
       "      <td>03/14/2025</td>\n",
       "      <td>NaN</td>\n",
       "      <td>NaN</td>\n",
       "      <td>3.029620e+09</td>\n",
       "      <td>44900.0</td>\n",
       "      <td>(40.71108, -73.92862)</td>\n",
       "    </tr>\n",
       "    <tr>\n",
       "      <th>2</th>\n",
       "      <td>qu-13-160016</td>\n",
       "      <td>Link5G_Ad</td>\n",
       "      <td>Live</td>\n",
       "      <td>NaN</td>\n",
       "      <td>NaN</td>\n",
       "      <td>Queens</td>\n",
       "      <td>23</td>\n",
       "      <td>413</td>\n",
       "      <td>264-21 UNION TURNPIKE</td>\n",
       "      <td>265th ST</td>\n",
       "      <td>...</td>\n",
       "      <td>R2A / C1-2</td>\n",
       "      <td>40.749170</td>\n",
       "      <td>-73.708140</td>\n",
       "      <td>02/29/2024</td>\n",
       "      <td>04/02/2025</td>\n",
       "      <td>Glen Oaks-Floral Park-New Hyde Park</td>\n",
       "      <td>4174076.0</td>\n",
       "      <td>4.085400e+09</td>\n",
       "      <td>NaN</td>\n",
       "      <td>(40.74917, -73.70814)</td>\n",
       "    </tr>\n",
       "    <tr>\n",
       "      <th>3</th>\n",
       "      <td>mn-04-122598</td>\n",
       "      <td>Link1.0</td>\n",
       "      <td>Live</td>\n",
       "      <td>122598</td>\n",
       "      <td>mn-04-122598</td>\n",
       "      <td>Manhattan</td>\n",
       "      <td>3</td>\n",
       "      <td>104</td>\n",
       "      <td>815 8 AVENUE</td>\n",
       "      <td>WEST 49 STREET</td>\n",
       "      <td>...</td>\n",
       "      <td>C6-4</td>\n",
       "      <td>40.761816</td>\n",
       "      <td>-73.986606</td>\n",
       "      <td>03/18/2016</td>\n",
       "      <td>04/27/2016</td>\n",
       "      <td>Clinton</td>\n",
       "      <td>1076203.0</td>\n",
       "      <td>1.010400e+09</td>\n",
       "      <td>1012700.0</td>\n",
       "      <td>(40.761816, -73.986606)</td>\n",
       "    </tr>\n",
       "    <tr>\n",
       "      <th>4</th>\n",
       "      <td>mn-05-137210</td>\n",
       "      <td>Link1.0</td>\n",
       "      <td>Live</td>\n",
       "      <td>137210</td>\n",
       "      <td>mn-05-137210</td>\n",
       "      <td>Manhattan</td>\n",
       "      <td>4</td>\n",
       "      <td>105</td>\n",
       "      <td>410 MADISON AVENUE</td>\n",
       "      <td>EAST 48 STREET</td>\n",
       "      <td>...</td>\n",
       "      <td>C5-3</td>\n",
       "      <td>40.756742</td>\n",
       "      <td>-73.976530</td>\n",
       "      <td>04/30/2017</td>\n",
       "      <td>05/26/2017</td>\n",
       "      <td>Midtown-Midtown South</td>\n",
       "      <td>1035437.0</td>\n",
       "      <td>1.012840e+09</td>\n",
       "      <td>1009400.0</td>\n",
       "      <td>(40.756742, -73.97653)</td>\n",
       "    </tr>\n",
       "  </tbody>\n",
       "</table>\n",
       "<p>5 rows × 23 columns</p>\n",
       "</div>"
      ],
      "text/plain": [
       "        Site ID Planned Kiosk Type Installation Status  PPT ID     Legacy ID  \\\n",
       "0  qu-01-125088            Link1.0                Live  125088  qu-01-125088   \n",
       "1  bk-01-160081          Link5G_Ad                Live     NaN           NaN   \n",
       "2  qu-13-160016          Link5G_Ad                Live     NaN           NaN   \n",
       "3  mn-04-122598            Link1.0                Live  122598  mn-04-122598   \n",
       "4  mn-05-137210            Link1.0                Live  137210  mn-05-137210   \n",
       "\n",
       "     Borough  Council District  Community Board         Street Address  \\\n",
       "0     Queens                22              401         34-02 BROADWAY   \n",
       "1   Brooklyn                34              301      161 VARICK AVENUE   \n",
       "2     Queens                23              413  264-21 UNION TURNPIKE   \n",
       "3  Manhattan                 3              104           815 8 AVENUE   \n",
       "4  Manhattan                 4              105     410 MADISON AVENUE   \n",
       "\n",
       "   Cross Street 1  ...      Zoning   Latitude  Longitude  \\\n",
       "0       34 STREET  ...       C4-2A  40.760713 -73.922879   \n",
       "1  SCHOLES STREET  ...        M3-1  40.711080 -73.928620   \n",
       "2        265th ST  ...  R2A / C1-2  40.749170 -73.708140   \n",
       "3  WEST 49 STREET  ...        C6-4  40.761816 -73.986606   \n",
       "4  EAST 48 STREET  ...        C5-3  40.756742 -73.976530   \n",
       "\n",
       "  Installation Complete  Activation Complete  \\\n",
       "0            04/22/2017           06/08/2017   \n",
       "1            10/09/2024           03/14/2025   \n",
       "2            02/29/2024           04/02/2025   \n",
       "3            03/18/2016           04/27/2016   \n",
       "4            04/30/2017           05/26/2017   \n",
       "\n",
       "    Neighborhood Tabulation Area (NTA) Building Identification Number (BIN)  \\\n",
       "0                              Astoria                            4008830.0   \n",
       "1                                  NaN                                  NaN   \n",
       "2  Glen Oaks-Floral Park-New Hyde Park                            4174076.0   \n",
       "3                              Clinton                            1076203.0   \n",
       "4                Midtown-Midtown South                            1035437.0   \n",
       "\n",
       "  Borough-Block-Lot (BBL) Census Tract (CT)                 Location  \n",
       "0            4.006220e+09         4005900.0  (40.760713, -73.922879)  \n",
       "1            3.029620e+09           44900.0    (40.71108, -73.92862)  \n",
       "2            4.085400e+09               NaN    (40.74917, -73.70814)  \n",
       "3            1.010400e+09         1012700.0  (40.761816, -73.986606)  \n",
       "4            1.012840e+09         1009400.0   (40.756742, -73.97653)  \n",
       "\n",
       "[5 rows x 23 columns]"
      ]
     },
     "execution_count": 144,
     "metadata": {},
     "output_type": "execute_result"
    }
   ],
   "source": [
    "#quick visual of kiosk_locations dataframe\n",
    "print(kiosk_locations.info())\n",
    "kiosk_locations.head()"
   ]
  },
  {
   "cell_type": "markdown",
   "id": "24a028ba",
   "metadata": {},
   "source": [
    "# Quick Cleans & Changing Datatypes"
   ]
  },
  {
   "cell_type": "code",
   "execution_count": 145,
   "id": "cbf7e93a",
   "metadata": {},
   "outputs": [
    {
     "name": "stdout",
     "output_type": "stream",
     "text": [
      "<class 'pandas.core.frame.DataFrame'>\n",
      "RangeIndex: 300 entries, 0 to 299\n",
      "Data columns (total 11 columns):\n",
      " #   Column                                         Non-Null Count  Dtype         \n",
      "---  ------                                         --------------  -----         \n",
      " 0   Report Ending (weekly starting on Sundays)     300 non-null    datetime64[ns]\n",
      " 1   Number of Sessions                             300 non-null    int64         \n",
      " 2   Average Session Length                         300 non-null    object        \n",
      " 3   Number of Unique Clients                       300 non-null    int64         \n",
      " 4   TB Downloaded                                  300 non-null    float64       \n",
      " 5   TB Uploaded                                    300 non-null    float64       \n",
      " 6   Cumulative Bandwidth Utilization To Date (TB)  300 non-null    float64       \n",
      " 7   Cumulative Sessions To Date                    300 non-null    int64         \n",
      " 8   Cumulative Subscribers To Date                 300 non-null    int64         \n",
      " 9   Report Year                                    300 non-null    int32         \n",
      " 10  Average Session Length (minutes)               300 non-null    float64       \n",
      "dtypes: datetime64[ns](1), float64(4), int32(1), int64(4), object(1)\n",
      "memory usage: 24.7+ KB\n"
     ]
    }
   ],
   "source": [
    "# some quick cleaning / changing data types for weekly_usage dataframe\n",
    "\n",
    "#weekly usage to 'DateTime'\n",
    "weekly_usage['Report Ending (weekly starting on Sundays)'] = pd.to_datetime(weekly_usage['Report Ending (weekly starting on Sundays)'])\n",
    "\n",
    "# feature engineering : extracting year from 'Report Ending (weekly starting on Sundays)'\n",
    "weekly_usage['Report Year'] = weekly_usage['Report Ending (weekly starting on Sundays)'].dt.year\n",
    "\n",
    "#turning average session length into usable data for aggregation (turning to string & splitting, standardizing seconds into minutes)\n",
    "time = weekly_usage['Average Session Length'].astype(str).str.split(':',expand=True).reset_index()\n",
    "\n",
    "time = time[[1,2]].astype(int)\n",
    "time[2] = time[2] / 60\n",
    "time[1] = time[1] + time[2]\n",
    "\n",
    "    # feature engineering : new minutes column for session length\n",
    "weekly_usage['Average Session Length (minutes)'] = time[1]\n",
    "\n",
    "\n",
    "weekly_usage.info()\n",
    "\n",
    "# turning installation complete to datetime\n",
    "kiosk_locations['Installation Complete'] = pd.to_datetime(kiosk_locations['Installation Complete'])"
   ]
  },
  {
   "cell_type": "markdown",
   "id": "afbbf962",
   "metadata": {},
   "source": [
    "# Exploratory Data Analysis"
   ]
  },
  {
   "cell_type": "markdown",
   "id": "1021a350",
   "metadata": {},
   "source": [
    "## weekly usage"
   ]
  },
  {
   "cell_type": "code",
   "execution_count": 211,
   "id": "dbd12d25",
   "metadata": {},
   "outputs": [
    {
     "data": {
      "text/html": [
       "<div>\n",
       "<style scoped>\n",
       "    .dataframe tbody tr th:only-of-type {\n",
       "        vertical-align: middle;\n",
       "    }\n",
       "\n",
       "    .dataframe tbody tr th {\n",
       "        vertical-align: top;\n",
       "    }\n",
       "\n",
       "    .dataframe thead th {\n",
       "        text-align: right;\n",
       "    }\n",
       "</style>\n",
       "<table border=\"1\" class=\"dataframe\">\n",
       "  <thead>\n",
       "    <tr style=\"text-align: right;\">\n",
       "      <th></th>\n",
       "      <th>Report Year</th>\n",
       "      <th>Number of Unique Clients</th>\n",
       "      <th>Average Session Length (minutes)</th>\n",
       "    </tr>\n",
       "  </thead>\n",
       "  <tbody>\n",
       "    <tr>\n",
       "      <th>0</th>\n",
       "      <td>2020</td>\n",
       "      <td>20174723</td>\n",
       "      <td>5.247756</td>\n",
       "    </tr>\n",
       "    <tr>\n",
       "      <th>1</th>\n",
       "      <td>2021</td>\n",
       "      <td>18552850</td>\n",
       "      <td>9.126923</td>\n",
       "    </tr>\n",
       "    <tr>\n",
       "      <th>2</th>\n",
       "      <td>2022</td>\n",
       "      <td>10941586</td>\n",
       "      <td>22.907692</td>\n",
       "    </tr>\n",
       "    <tr>\n",
       "      <th>3</th>\n",
       "      <td>2023</td>\n",
       "      <td>14661211</td>\n",
       "      <td>23.456918</td>\n",
       "    </tr>\n",
       "    <tr>\n",
       "      <th>4</th>\n",
       "      <td>2024</td>\n",
       "      <td>14479370</td>\n",
       "      <td>30.767628</td>\n",
       "    </tr>\n",
       "    <tr>\n",
       "      <th>5</th>\n",
       "      <td>2025</td>\n",
       "      <td>8866892</td>\n",
       "      <td>32.544444</td>\n",
       "    </tr>\n",
       "  </tbody>\n",
       "</table>\n",
       "</div>"
      ],
      "text/plain": [
       "   Report Year  Number of Unique Clients  Average Session Length (minutes)\n",
       "0         2020                  20174723                          5.247756\n",
       "1         2021                  18552850                          9.126923\n",
       "2         2022                  10941586                         22.907692\n",
       "3         2023                  14661211                         23.456918\n",
       "4         2024                  14479370                         30.767628\n",
       "5         2025                   8866892                         32.544444"
      ]
     },
     "execution_count": 211,
     "metadata": {},
     "output_type": "execute_result"
    }
   ],
   "source": [
    "#quick eda to see yearly average unique clients & session length (feel free to do change fields/aggregations)\n",
    "unique = weekly_usage.groupby(['Report Year']).agg({'Number of Unique Clients':'sum', 'Average Session Length (minutes)':'mean'}).reset_index()\n",
    "\n",
    "unique['Number of Unique Clients'] = unique['Number of Unique Clients'].astype(int)\n",
    "\n",
    "unique"
   ]
  },
  {
   "cell_type": "markdown",
   "id": "6337e932",
   "metadata": {},
   "source": [
    "## kiosk_locations"
   ]
  },
  {
   "cell_type": "code",
   "execution_count": null,
   "id": "e063d9a5",
   "metadata": {},
   "outputs": [
    {
     "name": "stdout",
     "output_type": "stream",
     "text": [
      "         Borough  Installation Complete  bproportions\n",
      "2      Manhattan                   1226      0.545859\n",
      "3         Queens                    398      0.177204\n",
      "1       Brooklyn                    356      0.158504\n",
      "0          Bronx                    216      0.096171\n",
      "4  Staten Island                     50      0.022262\n"
     ]
    },
    {
     "data": {
      "text/plain": [
       "0       2017\n",
       "1       2024\n",
       "2       2024\n",
       "3       2016\n",
       "4       2017\n",
       "        ... \n",
       "2245    2017\n",
       "2246    2016\n",
       "2247    2018\n",
       "2248    2017\n",
       "2249    2017\n",
       "Name: Installation Complete, Length: 2246, dtype: int32"
      ]
     },
     "execution_count": 203,
     "metadata": {},
     "output_type": "execute_result"
    }
   ],
   "source": [
    "#checking if any values are na (0 null values)\n",
    "kiosk_locations['Installation Complete'].isnull().sum()\n",
    "#checking amount of installed kiosks by borough\n",
    "borough_sum = kiosk_locations.groupby('Borough').agg({'Installation Complete':'count'}).reset_index()\n",
    "\n",
    "#calculating proportions for kiosk amount per borough\n",
    "totalcount = borough_sum['Installation Complete'].sum()\n",
    "borough_sum['bproportions'] = borough_sum['Installation Complete']/totalcount\n",
    "\n",
    "print(borough_sum.sort_values(ascending=False, by='bproportions'))\n",
    "\n",
    "kiosk_locations['Installation Complete'].dt.year"
   ]
  },
  {
   "cell_type": "code",
   "execution_count": null,
   "id": "73e713dd",
   "metadata": {},
   "outputs": [
    {
     "data": {
      "text/plain": [
       "Installation Year\n",
       "2015      2\n",
       "2016    603\n",
       "2017    907\n",
       "2018    315\n",
       "2019     10\n",
       "2020      4\n",
       "2021     21\n",
       "2022    212\n",
       "2023     62\n",
       "2024     81\n",
       "2025     16\n",
       "Name: Installation Complete, dtype: int64"
      ]
     },
     "execution_count": 194,
     "metadata": {},
     "output_type": "execute_result"
    }
   ],
   "source": [
    "#got rid of 1970, 1994 data as it not specific to the new linknyc kiosks\n",
    "kiosk_locations['Installation Year'] = kiosk_locations['Installation Complete'].dt.year\n",
    "\n",
    "kiosk_locations = kiosk_locations[kiosk_locations['Installation Year'] > 2014]\n",
    "\n",
    "live_locations = kiosk_locations[kiosk_locations['Installation Status'] == 'Live']\n",
    "live_locations.groupby('Installation Year')['Installation Complete'].count()\n",
    "\n",
    "#boroughinstall = kiosk_locations.groupby(['Installation Year'])['Installation Complete'].count().reset_index()\n",
    "\n",
    "#boroughinstall\n",
    "#kiosk_locations[kiosk_locations['Installation Year'] == 2020]\n",
    "\n",
    "#kiosk_locations['Planned Kiosk Type'].value_counts()\n"
   ]
  },
  {
   "cell_type": "code",
   "execution_count": 149,
   "id": "f47a9c69",
   "metadata": {},
   "outputs": [
    {
     "data": {
      "text/plain": [
       "Report Year\n",
       "2023    53\n",
       "2022    52\n",
       "2024    52\n",
       "2025    39\n",
       "2021    13\n",
       "Name: count, dtype: int64"
      ]
     },
     "execution_count": 149,
     "metadata": {},
     "output_type": "execute_result"
    }
   ],
   "source": [
    "weekly_usage['Number of Sessions'].sum()\n",
    "\n",
    "quality_sessions = weekly_usage[weekly_usage['Average Session Length (minutes)'] > 10]\n",
    "\n",
    "\n",
    "quality_sessions['Report Year'].value_counts()\n",
    "#print(weekly_usage['Number of Sessions'].sum())\n",
    "\n",
    "#print(quality_sessions['Number of Sessions'].sum())\n",
    "\n",
    "#weekly_usage['Average Session Length (minutes)'].unique()"
   ]
  },
  {
   "cell_type": "code",
   "execution_count": null,
   "id": "da3be2b9",
   "metadata": {},
   "outputs": [
    {
     "name": "stdout",
     "output_type": "stream",
     "text": [
      "Total Sessions: 1648679102\n",
      "Activated Sessions (Average Session Length > 5 min) : 1198283741\n",
      "Engaged Sessions (TB Downloaded Above  50.0 percentile) : 646715483\n",
      "High-Value Sessions ( 75.0 percentile of Engaged Sessions): 387443331\n"
     ]
    },
    {
     "data": {
      "text/html": [
       "<div>\n",
       "<style scoped>\n",
       "    .dataframe tbody tr th:only-of-type {\n",
       "        vertical-align: middle;\n",
       "    }\n",
       "\n",
       "    .dataframe tbody tr th {\n",
       "        vertical-align: top;\n",
       "    }\n",
       "\n",
       "    .dataframe thead th {\n",
       "        text-align: right;\n",
       "    }\n",
       "</style>\n",
       "<table border=\"1\" class=\"dataframe\">\n",
       "  <thead>\n",
       "    <tr style=\"text-align: right;\">\n",
       "      <th></th>\n",
       "      <th>step_name</th>\n",
       "      <th>session_count</th>\n",
       "      <th>step_conversion</th>\n",
       "      <th>overall_conversion</th>\n",
       "    </tr>\n",
       "  </thead>\n",
       "  <tbody>\n",
       "    <tr>\n",
       "      <th>0</th>\n",
       "      <td>Total Sessions</td>\n",
       "      <td>1648679102</td>\n",
       "      <td>NaN</td>\n",
       "      <td>100.00</td>\n",
       "    </tr>\n",
       "    <tr>\n",
       "      <th>1</th>\n",
       "      <td>Quality Sessions</td>\n",
       "      <td>1198283741</td>\n",
       "      <td>72.68</td>\n",
       "      <td>72.68</td>\n",
       "    </tr>\n",
       "    <tr>\n",
       "      <th>2</th>\n",
       "      <td>Engaged Sessions</td>\n",
       "      <td>646715483</td>\n",
       "      <td>53.97</td>\n",
       "      <td>39.23</td>\n",
       "    </tr>\n",
       "    <tr>\n",
       "      <th>3</th>\n",
       "      <td>High-Value</td>\n",
       "      <td>387443331</td>\n",
       "      <td>59.91</td>\n",
       "      <td>23.50</td>\n",
       "    </tr>\n",
       "  </tbody>\n",
       "</table>\n",
       "</div>"
      ],
      "text/plain": [
       "          step_name  session_count  step_conversion  overall_conversion\n",
       "0    Total Sessions     1648679102              NaN              100.00\n",
       "1  Quality Sessions     1198283741            72.68               72.68\n",
       "2  Engaged Sessions      646715483            53.97               39.23\n",
       "3        High-Value      387443331            59.91               23.50"
      ]
     },
     "execution_count": 199,
     "metadata": {},
     "output_type": "execute_result"
    }
   ],
   "source": [
    "# boolean for quality sessions\n",
    "quality_threshold = 5\n",
    "\n",
    "weekly_usage['quality_session'] = (weekly_usage['Average Session Length (minutes)'] > quality_threshold).astype(int)\n",
    "\n",
    "# boolean for active users\n",
    "engaged_threshold = .50\n",
    "weekly_usage['engaged_sessions']= (weekly_usage['TB Downloaded'] > weekly_usage['TB Downloaded'].quantile(engaged_threshold)).astype(int)\n",
    "\n",
    "# top 25%\n",
    "value_threshold = .75\n",
    "weekly_usage['high_value']= (weekly_usage['TB Downloaded'] > weekly_usage['TB Downloaded'].quantile(value_threshold)).astype(int)\n",
    "\n",
    "#filtering all data with interaction terms to be what we consider \"converted weeks\"\n",
    "\n",
    "\n",
    "(weekly_usage.loc[weekly_usage['high_value'],'Number of Sessions']).sum()\n",
    "\n",
    "print('Total Sessions:',weekly_usage['Number of Sessions'].sum())\n",
    "activated = weekly_usage[weekly_usage['quality_session'] == 1]\n",
    "print('Activated Sessions (Average Session Length >',quality_threshold,'min) :',activated['Number of Sessions'].sum())\n",
    "engaged = activated[activated['engaged_sessions'] == 1]\n",
    "print('Engaged Sessions (TB Downloaded Above ',engaged_threshold*100,'percentile) :',engaged['Number of Sessions'].sum())\n",
    "highvalue = engaged[engaged['high_value'] == 1]\n",
    "print(\"High-Value Sessions (\",value_threshold*100,'percentile of Engaged Sessions):',highvalue['Number of Sessions'].sum())\n",
    "\n",
    "#taking data and putting on dataframe for funnel\n",
    "funnel = {\n",
    "    'step_name': [\n",
    "        'Total Sessions', 'Quality Sessions', 'Engaged Sessions', 'High-Value'\n",
    "    ],\n",
    "    'session_count': [weekly_usage['Number of Sessions'].sum(),activated['Number of Sessions'].sum(), engaged['Number of Sessions'].sum(), highvalue['Number of Sessions'].sum()]\n",
    "}\n",
    "\n",
    "\n",
    "funneldf = pd.DataFrame(funnel)\n",
    "\n",
    "#calculating funnel conversions\n",
    "funneldf['step_conversion'] = funneldf['session_count'] / funneldf['session_count'].shift(1)\n",
    "\n",
    "funneldf['overall_conversion'] = funneldf['session_count'] / funneldf['session_count'].iloc[0]\n",
    "\n",
    "#round to two decimals\n",
    "funneldf['step_conversion'] = (funneldf['step_conversion'] * 100).round(2)\n",
    "funneldf['overall_conversion'] = (funneldf['overall_conversion'] * 100).round(2)\n",
    "\n",
    "funneldf"
   ]
  },
  {
   "cell_type": "code",
   "execution_count": null,
   "id": "3bd11202",
   "metadata": {},
   "outputs": [
    {
     "data": {
      "application/vnd.plotly.v1+json": {
       "config": {
        "plotlyServerURL": "https://plot.ly"
       },
       "data": [
        {
         "hovertemplate": "color=Red<br>overall_conversion=%{x}<br>step_name=%{y}<extra></extra>",
         "legendgroup": "Red",
         "marker": {
          "color": "#636efa"
         },
         "name": "Red",
         "orientation": "h",
         "showlegend": true,
         "type": "funnel",
         "x": {
          "bdata": "AAAAAAAAWUA=",
          "dtype": "f8"
         },
         "xaxis": "x",
         "y": [
          "Total Sessions"
         ],
         "yaxis": "y"
        },
        {
         "hovertemplate": "color=Blue<br>overall_conversion=%{x}<br>step_name=%{y}<extra></extra>",
         "legendgroup": "Blue",
         "marker": {
          "color": "#EF553B"
         },
         "name": "Blue",
         "orientation": "h",
         "showlegend": true,
         "type": "funnel",
         "x": {
          "bdata": "7FG4HoUrUkA=",
          "dtype": "f8"
         },
         "xaxis": "x",
         "y": [
          "Quality Sessions"
         ],
         "yaxis": "y"
        },
        {
         "hovertemplate": "color=Green<br>overall_conversion=%{x}<br>step_name=%{y}<extra></extra>",
         "legendgroup": "Green",
         "marker": {
          "color": "#00cc96"
         },
         "name": "Green",
         "orientation": "h",
         "showlegend": true,
         "type": "funnel",
         "x": {
          "bdata": "PQrXo3CdQ0A=",
          "dtype": "f8"
         },
         "xaxis": "x",
         "y": [
          "Engaged Sessions"
         ],
         "yaxis": "y"
        },
        {
         "hovertemplate": "color=Purple<br>overall_conversion=%{x}<br>step_name=%{y}<extra></extra>",
         "legendgroup": "Purple",
         "marker": {
          "color": "#ab63fa"
         },
         "name": "Purple",
         "orientation": "h",
         "showlegend": true,
         "type": "funnel",
         "x": {
          "bdata": "AAAAAACAN0A=",
          "dtype": "f8"
         },
         "xaxis": "x",
         "y": [
          "High-Value"
         ],
         "yaxis": "y"
        }
       ],
       "layout": {
        "height": 500,
        "legend": {
         "title": {
          "text": "color"
         },
         "tracegroupgap": 0
        },
        "showlegend": false,
        "template": {
         "data": {
          "bar": [
           {
            "error_x": {
             "color": "#2a3f5f"
            },
            "error_y": {
             "color": "#2a3f5f"
            },
            "marker": {
             "line": {
              "color": "#E5ECF6",
              "width": 0.5
             },
             "pattern": {
              "fillmode": "overlay",
              "size": 10,
              "solidity": 0.2
             }
            },
            "type": "bar"
           }
          ],
          "barpolar": [
           {
            "marker": {
             "line": {
              "color": "#E5ECF6",
              "width": 0.5
             },
             "pattern": {
              "fillmode": "overlay",
              "size": 10,
              "solidity": 0.2
             }
            },
            "type": "barpolar"
           }
          ],
          "carpet": [
           {
            "aaxis": {
             "endlinecolor": "#2a3f5f",
             "gridcolor": "white",
             "linecolor": "white",
             "minorgridcolor": "white",
             "startlinecolor": "#2a3f5f"
            },
            "baxis": {
             "endlinecolor": "#2a3f5f",
             "gridcolor": "white",
             "linecolor": "white",
             "minorgridcolor": "white",
             "startlinecolor": "#2a3f5f"
            },
            "type": "carpet"
           }
          ],
          "choropleth": [
           {
            "colorbar": {
             "outlinewidth": 0,
             "ticks": ""
            },
            "type": "choropleth"
           }
          ],
          "contour": [
           {
            "colorbar": {
             "outlinewidth": 0,
             "ticks": ""
            },
            "colorscale": [
             [
              0,
              "#0d0887"
             ],
             [
              0.1111111111111111,
              "#46039f"
             ],
             [
              0.2222222222222222,
              "#7201a8"
             ],
             [
              0.3333333333333333,
              "#9c179e"
             ],
             [
              0.4444444444444444,
              "#bd3786"
             ],
             [
              0.5555555555555556,
              "#d8576b"
             ],
             [
              0.6666666666666666,
              "#ed7953"
             ],
             [
              0.7777777777777778,
              "#fb9f3a"
             ],
             [
              0.8888888888888888,
              "#fdca26"
             ],
             [
              1,
              "#f0f921"
             ]
            ],
            "type": "contour"
           }
          ],
          "contourcarpet": [
           {
            "colorbar": {
             "outlinewidth": 0,
             "ticks": ""
            },
            "type": "contourcarpet"
           }
          ],
          "heatmap": [
           {
            "colorbar": {
             "outlinewidth": 0,
             "ticks": ""
            },
            "colorscale": [
             [
              0,
              "#0d0887"
             ],
             [
              0.1111111111111111,
              "#46039f"
             ],
             [
              0.2222222222222222,
              "#7201a8"
             ],
             [
              0.3333333333333333,
              "#9c179e"
             ],
             [
              0.4444444444444444,
              "#bd3786"
             ],
             [
              0.5555555555555556,
              "#d8576b"
             ],
             [
              0.6666666666666666,
              "#ed7953"
             ],
             [
              0.7777777777777778,
              "#fb9f3a"
             ],
             [
              0.8888888888888888,
              "#fdca26"
             ],
             [
              1,
              "#f0f921"
             ]
            ],
            "type": "heatmap"
           }
          ],
          "histogram": [
           {
            "marker": {
             "pattern": {
              "fillmode": "overlay",
              "size": 10,
              "solidity": 0.2
             }
            },
            "type": "histogram"
           }
          ],
          "histogram2d": [
           {
            "colorbar": {
             "outlinewidth": 0,
             "ticks": ""
            },
            "colorscale": [
             [
              0,
              "#0d0887"
             ],
             [
              0.1111111111111111,
              "#46039f"
             ],
             [
              0.2222222222222222,
              "#7201a8"
             ],
             [
              0.3333333333333333,
              "#9c179e"
             ],
             [
              0.4444444444444444,
              "#bd3786"
             ],
             [
              0.5555555555555556,
              "#d8576b"
             ],
             [
              0.6666666666666666,
              "#ed7953"
             ],
             [
              0.7777777777777778,
              "#fb9f3a"
             ],
             [
              0.8888888888888888,
              "#fdca26"
             ],
             [
              1,
              "#f0f921"
             ]
            ],
            "type": "histogram2d"
           }
          ],
          "histogram2dcontour": [
           {
            "colorbar": {
             "outlinewidth": 0,
             "ticks": ""
            },
            "colorscale": [
             [
              0,
              "#0d0887"
             ],
             [
              0.1111111111111111,
              "#46039f"
             ],
             [
              0.2222222222222222,
              "#7201a8"
             ],
             [
              0.3333333333333333,
              "#9c179e"
             ],
             [
              0.4444444444444444,
              "#bd3786"
             ],
             [
              0.5555555555555556,
              "#d8576b"
             ],
             [
              0.6666666666666666,
              "#ed7953"
             ],
             [
              0.7777777777777778,
              "#fb9f3a"
             ],
             [
              0.8888888888888888,
              "#fdca26"
             ],
             [
              1,
              "#f0f921"
             ]
            ],
            "type": "histogram2dcontour"
           }
          ],
          "mesh3d": [
           {
            "colorbar": {
             "outlinewidth": 0,
             "ticks": ""
            },
            "type": "mesh3d"
           }
          ],
          "parcoords": [
           {
            "line": {
             "colorbar": {
              "outlinewidth": 0,
              "ticks": ""
             }
            },
            "type": "parcoords"
           }
          ],
          "pie": [
           {
            "automargin": true,
            "type": "pie"
           }
          ],
          "scatter": [
           {
            "fillpattern": {
             "fillmode": "overlay",
             "size": 10,
             "solidity": 0.2
            },
            "type": "scatter"
           }
          ],
          "scatter3d": [
           {
            "line": {
             "colorbar": {
              "outlinewidth": 0,
              "ticks": ""
             }
            },
            "marker": {
             "colorbar": {
              "outlinewidth": 0,
              "ticks": ""
             }
            },
            "type": "scatter3d"
           }
          ],
          "scattercarpet": [
           {
            "marker": {
             "colorbar": {
              "outlinewidth": 0,
              "ticks": ""
             }
            },
            "type": "scattercarpet"
           }
          ],
          "scattergeo": [
           {
            "marker": {
             "colorbar": {
              "outlinewidth": 0,
              "ticks": ""
             }
            },
            "type": "scattergeo"
           }
          ],
          "scattergl": [
           {
            "marker": {
             "colorbar": {
              "outlinewidth": 0,
              "ticks": ""
             }
            },
            "type": "scattergl"
           }
          ],
          "scattermap": [
           {
            "marker": {
             "colorbar": {
              "outlinewidth": 0,
              "ticks": ""
             }
            },
            "type": "scattermap"
           }
          ],
          "scattermapbox": [
           {
            "marker": {
             "colorbar": {
              "outlinewidth": 0,
              "ticks": ""
             }
            },
            "type": "scattermapbox"
           }
          ],
          "scatterpolar": [
           {
            "marker": {
             "colorbar": {
              "outlinewidth": 0,
              "ticks": ""
             }
            },
            "type": "scatterpolar"
           }
          ],
          "scatterpolargl": [
           {
            "marker": {
             "colorbar": {
              "outlinewidth": 0,
              "ticks": ""
             }
            },
            "type": "scatterpolargl"
           }
          ],
          "scatterternary": [
           {
            "marker": {
             "colorbar": {
              "outlinewidth": 0,
              "ticks": ""
             }
            },
            "type": "scatterternary"
           }
          ],
          "surface": [
           {
            "colorbar": {
             "outlinewidth": 0,
             "ticks": ""
            },
            "colorscale": [
             [
              0,
              "#0d0887"
             ],
             [
              0.1111111111111111,
              "#46039f"
             ],
             [
              0.2222222222222222,
              "#7201a8"
             ],
             [
              0.3333333333333333,
              "#9c179e"
             ],
             [
              0.4444444444444444,
              "#bd3786"
             ],
             [
              0.5555555555555556,
              "#d8576b"
             ],
             [
              0.6666666666666666,
              "#ed7953"
             ],
             [
              0.7777777777777778,
              "#fb9f3a"
             ],
             [
              0.8888888888888888,
              "#fdca26"
             ],
             [
              1,
              "#f0f921"
             ]
            ],
            "type": "surface"
           }
          ],
          "table": [
           {
            "cells": {
             "fill": {
              "color": "#EBF0F8"
             },
             "line": {
              "color": "white"
             }
            },
            "header": {
             "fill": {
              "color": "#C8D4E3"
             },
             "line": {
              "color": "white"
             }
            },
            "type": "table"
           }
          ]
         },
         "layout": {
          "annotationdefaults": {
           "arrowcolor": "#2a3f5f",
           "arrowhead": 0,
           "arrowwidth": 1
          },
          "autotypenumbers": "strict",
          "coloraxis": {
           "colorbar": {
            "outlinewidth": 0,
            "ticks": ""
           }
          },
          "colorscale": {
           "diverging": [
            [
             0,
             "#8e0152"
            ],
            [
             0.1,
             "#c51b7d"
            ],
            [
             0.2,
             "#de77ae"
            ],
            [
             0.3,
             "#f1b6da"
            ],
            [
             0.4,
             "#fde0ef"
            ],
            [
             0.5,
             "#f7f7f7"
            ],
            [
             0.6,
             "#e6f5d0"
            ],
            [
             0.7,
             "#b8e186"
            ],
            [
             0.8,
             "#7fbc41"
            ],
            [
             0.9,
             "#4d9221"
            ],
            [
             1,
             "#276419"
            ]
           ],
           "sequential": [
            [
             0,
             "#0d0887"
            ],
            [
             0.1111111111111111,
             "#46039f"
            ],
            [
             0.2222222222222222,
             "#7201a8"
            ],
            [
             0.3333333333333333,
             "#9c179e"
            ],
            [
             0.4444444444444444,
             "#bd3786"
            ],
            [
             0.5555555555555556,
             "#d8576b"
            ],
            [
             0.6666666666666666,
             "#ed7953"
            ],
            [
             0.7777777777777778,
             "#fb9f3a"
            ],
            [
             0.8888888888888888,
             "#fdca26"
            ],
            [
             1,
             "#f0f921"
            ]
           ],
           "sequentialminus": [
            [
             0,
             "#0d0887"
            ],
            [
             0.1111111111111111,
             "#46039f"
            ],
            [
             0.2222222222222222,
             "#7201a8"
            ],
            [
             0.3333333333333333,
             "#9c179e"
            ],
            [
             0.4444444444444444,
             "#bd3786"
            ],
            [
             0.5555555555555556,
             "#d8576b"
            ],
            [
             0.6666666666666666,
             "#ed7953"
            ],
            [
             0.7777777777777778,
             "#fb9f3a"
            ],
            [
             0.8888888888888888,
             "#fdca26"
            ],
            [
             1,
             "#f0f921"
            ]
           ]
          },
          "colorway": [
           "#636efa",
           "#EF553B",
           "#00cc96",
           "#ab63fa",
           "#FFA15A",
           "#19d3f3",
           "#FF6692",
           "#B6E880",
           "#FF97FF",
           "#FECB52"
          ],
          "font": {
           "color": "#2a3f5f"
          },
          "geo": {
           "bgcolor": "white",
           "lakecolor": "white",
           "landcolor": "#E5ECF6",
           "showlakes": true,
           "showland": true,
           "subunitcolor": "white"
          },
          "hoverlabel": {
           "align": "left"
          },
          "hovermode": "closest",
          "mapbox": {
           "style": "light"
          },
          "paper_bgcolor": "white",
          "plot_bgcolor": "#E5ECF6",
          "polar": {
           "angularaxis": {
            "gridcolor": "white",
            "linecolor": "white",
            "ticks": ""
           },
           "bgcolor": "#E5ECF6",
           "radialaxis": {
            "gridcolor": "white",
            "linecolor": "white",
            "ticks": ""
           }
          },
          "scene": {
           "xaxis": {
            "backgroundcolor": "#E5ECF6",
            "gridcolor": "white",
            "gridwidth": 2,
            "linecolor": "white",
            "showbackground": true,
            "ticks": "",
            "zerolinecolor": "white"
           },
           "yaxis": {
            "backgroundcolor": "#E5ECF6",
            "gridcolor": "white",
            "gridwidth": 2,
            "linecolor": "white",
            "showbackground": true,
            "ticks": "",
            "zerolinecolor": "white"
           },
           "zaxis": {
            "backgroundcolor": "#E5ECF6",
            "gridcolor": "white",
            "gridwidth": 2,
            "linecolor": "white",
            "showbackground": true,
            "ticks": "",
            "zerolinecolor": "white"
           }
          },
          "shapedefaults": {
           "line": {
            "color": "#2a3f5f"
           }
          },
          "ternary": {
           "aaxis": {
            "gridcolor": "white",
            "linecolor": "white",
            "ticks": ""
           },
           "baxis": {
            "gridcolor": "white",
            "linecolor": "white",
            "ticks": ""
           },
           "bgcolor": "#E5ECF6",
           "caxis": {
            "gridcolor": "white",
            "linecolor": "white",
            "ticks": ""
           }
          },
          "title": {
           "x": 0.05
          },
          "xaxis": {
           "automargin": true,
           "gridcolor": "white",
           "linecolor": "white",
           "ticks": "",
           "title": {
            "standoff": 15
           },
           "zerolinecolor": "white",
           "zerolinewidth": 2
          },
          "yaxis": {
           "automargin": true,
           "gridcolor": "white",
           "linecolor": "white",
           "ticks": "",
           "title": {
            "standoff": 15
           },
           "zerolinecolor": "white",
           "zerolinewidth": 2
          }
         }
        },
        "title": {
         "text": "Overall Conversion Funnel",
         "x": 0.5
        },
        "width": 650,
        "xaxis": {
         "anchor": "y",
         "domain": [
          0,
          1
         ],
         "title": {
          "text": "overall_conversion"
         }
        },
        "yaxis": {
         "anchor": "x",
         "domain": [
          0,
          1
         ],
         "title": {
          "text": "Step Name"
         }
        }
       }
      }
     },
     "metadata": {},
     "output_type": "display_data"
    }
   ],
   "source": [
    "# creating funnel visualization\n",
    "\n",
    "fig = px.funnel(funneldf, x='overall_conversion', y='step_name',title='Overall Conversion Funnel',width= 650, height= 500, color=['Red','Blue','Green','Purple'])\n",
    "\n",
    "fig.update_layout(title_x = 0.5,yaxis_title = 'Step Name',showlegend = False)\n",
    "fig.show()"
   ]
  }
 ],
 "metadata": {
  "kernelspec": {
   "display_name": "base",
   "language": "python",
   "name": "python3"
  },
  "language_info": {
   "codemirror_mode": {
    "name": "ipython",
    "version": 3
   },
   "file_extension": ".py",
   "mimetype": "text/x-python",
   "name": "python",
   "nbconvert_exporter": "python",
   "pygments_lexer": "ipython3",
   "version": "3.12.9"
  }
 },
 "nbformat": 4,
 "nbformat_minor": 5
}
